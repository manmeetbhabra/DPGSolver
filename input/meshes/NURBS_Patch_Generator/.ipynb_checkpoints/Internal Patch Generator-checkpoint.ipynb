{
 "cells": [
  {
   "cell_type": "code",
   "execution_count": 14,
   "metadata": {},
   "outputs": [
    {
     "name": "stdout",
     "output_type": "stream",
     "text": [
      "The autoreload extension is already loaded. To reload it, use:\n",
      "  %reload_ext autoreload\n"
     ]
    }
   ],
   "source": [
    "%load_ext autoreload\n",
    "%autoreload 2\n",
    "#%matplotlib tk"
   ]
  },
  {
   "cell_type": "code",
   "execution_count": 15,
   "metadata": {},
   "outputs": [],
   "source": [
    "import matplotlib.pyplot as plt\n",
    "import numpy as np\n",
    "import math\n",
    "import Basis\n",
    "import sys\n",
    "from tqdm import tnrange"
   ]
  },
  {
   "cell_type": "markdown",
   "metadata": {},
   "source": [
    "# Setup"
   ]
  },
  {
   "cell_type": "code",
   "execution_count": 16,
   "metadata": {},
   "outputs": [],
   "source": [
    "CONST_EPS = 1E-9  # Epsilon value to use for the numerical epsilon\n",
    "\n",
    "# The properties along the xi direction.\n",
    "CONST_P = 6  # The order of the patch along the direction\n",
    "CONST_NUM_CONTROL_PTS_XI = 11  # Number of control points in the direction (make it an odd number)\n",
    "\n",
    "# Properties of the patch in the eta direction\n",
    "CONST_Q = 1  # The order of the patch along the direction\n",
    "CONST_NUM_CONTROL_PTS_ETA = 2  # Number of control points in the direction\n",
    "\n",
    "# Domain Parameters (The physical domain parameters, before deformation to add the bump)\n",
    "CONST_X_MIN = 0.0\n",
    "CONST_X_MAX = 5.0\n",
    "\n",
    "CONST_Y_MIN = 0.0\n",
    "CONST_Y_MAX = 2.0\n",
    "\n",
    "# How much to lift middle points by to add the bump\n",
    "CONST_DELTA_Y = 0.75\n"
   ]
  },
  {
   "cell_type": "code",
   "execution_count": 17,
   "metadata": {},
   "outputs": [],
   "source": [
    "\n",
    "# Name for the output file\n",
    "CONST_Output_file_name = \"geometry_parameters_internal_channel_bumptopbot_NURBS_P%d_Q%d_NXi%d_NEta%d.geo\"%(CONST_P, \n",
    "                                        CONST_Q, CONST_NUM_CONTROL_PTS_XI, CONST_NUM_CONTROL_PTS_ETA)"
   ]
  },
  {
   "cell_type": "markdown",
   "metadata": {},
   "source": [
    "# Bump Functions"
   ]
  },
  {
   "cell_type": "code",
   "execution_count": 18,
   "metadata": {},
   "outputs": [],
   "source": [
    "\n",
    "def get_knot_vectors(p, n):\n",
    "    \n",
    "    \"\"\"\n",
    "    Get the knot vector given the order and the number of points in\n",
    "    the given direction. Is a vector in the domain ([-1, 1]).\n",
    "    \n",
    "    :param p: The order\n",
    "    :param n: The number of points\n",
    "    \"\"\"\n",
    "    \n",
    "    # Spline parameters\n",
    "    m = n + p + 1  # number of elements in knot vector\n",
    "\n",
    "    # Create a uniform open knot vector (use an open knot vector so first and last\n",
    "    # knot are repeated p+1 times). Also, domain of the knot vector is [-1,1]\n",
    "    knots = []\n",
    "\n",
    "    for i in range(p+1):\n",
    "        knots.append(-1.)\n",
    "\n",
    "    num_non_end_knots = m - 2*(p+1)\n",
    "    delta_knot = 2./(num_non_end_knots+1)\n",
    "\n",
    "    for i in range(1, num_non_end_knots+1):\n",
    "        knots.append(-1. + i*delta_knot)\n",
    "\n",
    "    for i in range(p+1):\n",
    "        knots.append(1.)\n",
    "        \n",
    "    return knots\n"
   ]
  },
  {
   "cell_type": "code",
   "execution_count": 19,
   "metadata": {},
   "outputs": [],
   "source": [
    "\n",
    "def get_optimization_pts(ControlPoints_and_Weights):\n",
    "\n",
    "    \"\"\"\n",
    "    Go through the Control Point net and set the points that will \n",
    "    act as the optimization control points. This method will combine\n",
    "    the points into a list and also specify each point's degrees of \n",
    "    freedom. \n",
    "\n",
    "    :param ControlPoints_and_Weights: The net (matrix) of control points and\n",
    "        weights.\n",
    "\n",
    "    :return : A list with the control points for the optimization. The list\n",
    "        will hold tuples of the form (cntrl_pt, dof_x_bool, dof_y_bool)\n",
    "        where dof_x_bool = 0 if the x direction cannot be used as a degree of \n",
    "        freedom and is 1 if it can be (same for dof_y_bool)\n",
    "    \"\"\"\n",
    "\n",
    "    # For the bump case, fix the corner points and allow the middle points to move around\n",
    "    optimization_control_pt_list = []\n",
    "\n",
    "    # Subtract 2 since corner points cannot move\n",
    "    num_pts_xi = len(ControlPoints_and_Weights)  # First dimension gives the number of points in the xi direction\n",
    "    num_pts = num_pts_xi - 2 \n",
    "\n",
    "    for i in range(1,num_pts+1):\n",
    "        optimization_control_pt_list.append((ControlPoints_and_Weights[i][0], 0, 1))\n",
    "\n",
    "    # Place the limits on each design variable\n",
    "    # NOTE: For now, only y can be adjusted so set those limits.\n",
    "    optimization_control_pt_limit_list = []\n",
    "\n",
    "    y_max = CONST_Y_MAX\n",
    "    y_min = CONST_Y_MIN\n",
    "\n",
    "    for i in range(len(optimization_control_pt_list)):\n",
    "\n",
    "        pt = optimization_control_pt_list[i][0]\n",
    "        optimization_control_pt_limit_list.append((pt, y_min, y_max))\n",
    "\n",
    "    return optimization_control_pt_list, optimization_control_pt_limit_list\n",
    "\n",
    "\n",
    "def get_channel_patch_parameters(P, num_pts_xi, Q, num_pts_eta, delta_y_bottom, num_pts_mid=1):\n",
    "    \n",
    "    \"\"\"\n",
    "    Obtain the knot vectors and the control points for the channel.\n",
    "    \n",
    "    :param P: Order in the xi direction.\n",
    "    :param num_pts_xi: The number of control points in the xi direction.\n",
    "    :param Q: Order in the eta direction.\n",
    "    :param num_pts_eta: The number of points in the eta direction.\n",
    "    :param delta_y_bottom: How much to shift the control points (center ones) for\n",
    "        the bottom of the grid up (to create the bump)\n",
    "    :param num_pts_mid: The number of points around the middle one to also raise up.\n",
    "    \n",
    "    :return: Dictionary with the patch parameters\n",
    "    \"\"\"\n",
    "    \n",
    "    # Get the knot vectors for the xi and eta directions\n",
    "    xiVector = get_knot_vectors(P, num_pts_xi)\n",
    "    etaVector = get_knot_vectors(Q, num_pts_eta)\n",
    "    \n",
    "    # Create the grid of control points. For each one, also assign a weight. \n",
    "    # Initialize the grid with eqaually spaced points and set all the weights\n",
    "    # to one.\n",
    "    ControlPoints_and_Weights = []\n",
    "    \n",
    "    dx_control_pts = (CONST_X_MAX - CONST_X_MIN)/(num_pts_xi-1)\n",
    "    dy_control_pts = (CONST_Y_MAX - CONST_Y_MIN)/(num_pts_eta-1)\n",
    "    \n",
    "    for i in range(num_pts_xi):\n",
    "        col = []\n",
    "        for j in range(num_pts_eta):\n",
    "            \n",
    "            x_ij = CONST_X_MIN + i*dx_control_pts\n",
    "            y_ij = CONST_Y_MIN + j*dy_control_pts\n",
    "            \n",
    "            col.append([x_ij, y_ij, 1.0])\n",
    "            \n",
    "        ControlPoints_and_Weights.append(col)\n",
    "    \n",
    "    \n",
    "    # Shift the correct control points at the bottom up by the specified\n",
    "    # amount to create the bump\n",
    "    \n",
    "    i_mid_index = int((num_pts_xi-1)/2.0)\n",
    "    ControlPoints_and_Weights[i_mid_index][0][1] += delta_y_bottom\n",
    "    \n",
    "    for i in range(1, num_pts_mid):\n",
    "        ControlPoints_and_Weights[i_mid_index+i][0][1] += delta_y_bottom\n",
    "        ControlPoints_and_Weights[i_mid_index-i][0][1] += delta_y_bottom\n",
    "        \n",
    "    \n",
    "    # Shift the top points down by an equivalent amount to create a symmetric\n",
    "    # channel with a throat\n",
    "    ControlPoints_and_Weights[i_mid_index][1][1] -= delta_y_bottom\n",
    "    \n",
    "    for i in range(1, num_pts_mid):\n",
    "        ControlPoints_and_Weights[i_mid_index+i][1][1] -= delta_y_bottom\n",
    "        ControlPoints_and_Weights[i_mid_index-i][1][1] -= delta_y_bottom\n",
    "    \n",
    "    \n",
    "    # =========================================================================\n",
    "    # NOTE: This section can be used to set some of the weights for the points\n",
    "    # to not be 1. This way we can test the NURBS implementation.\n",
    "    \n",
    "    # Arbitrarily set the values to 1/sqrt(2)\n",
    "\n",
    "    # Bottom control points\n",
    "    ControlPoints_and_Weights[i_mid_index][0][2] = 1./math.sqrt(2)\n",
    "    \n",
    "    for i in range(1, num_pts_mid):\n",
    "        ControlPoints_and_Weights[i_mid_index+i][0][2] = 1./math.sqrt(2)\n",
    "        ControlPoints_and_Weights[i_mid_index-i][0][2] = 1./math.sqrt(2)\n",
    "    \n",
    "    # Top control points\n",
    "    ControlPoints_and_Weights[i_mid_index][1][2] = 1./math.sqrt(2)\n",
    "    \n",
    "    for i in range(1, num_pts_mid):\n",
    "        ControlPoints_and_Weights[i_mid_index+i][1][2] = 1./math.sqrt(2)\n",
    "        ControlPoints_and_Weights[i_mid_index-i][1][2] = 1./math.sqrt(2)\n",
    "    \n",
    "    # =========================================================================\n",
    "    \n",
    "    \n",
    "    # Get the list of optimization control points (if we want to use this case for\n",
    "    # optimization purposes)\n",
    "    optimization_control_pt_list, optimization_control_pt_limit_list = get_optimization_pts(ControlPoints_and_Weights)\n",
    "    \n",
    "    \n",
    "    patch_parameters = {\n",
    "        \"xiVector\" : xiVector,\n",
    "        \"etaVector\" : etaVector,\n",
    "        \"ControlPoints_and_Weights\" : ControlPoints_and_Weights,\n",
    "        \"P\" : P,\n",
    "        \"Q\" : Q,\n",
    "        \"Optimization_ControlPoints_and_Weights\" : optimization_control_pt_list,\n",
    "        \"Optimization_ControlPoints_Limits\" : optimization_control_pt_limit_list,\n",
    "    }\n",
    "\n",
    "    return patch_parameters\n"
   ]
  },
  {
   "cell_type": "code",
   "execution_count": 20,
   "metadata": {},
   "outputs": [],
   "source": [
    "\n",
    "def NURBS_patch(xi,eta,BasisFunctionsList, ControlPoints_and_Weights, grad_index=None):\n",
    "\n",
    "    \"\"\"\n",
    "    Knowing the basis functions and locations of the points,\n",
    "    compute the parametric NURBS patch expression.\n",
    "    \n",
    "    NOTE: This function is used for plotting.\n",
    "\n",
    "    :param xi: The xi value to evaluate the patch at\n",
    "    :param eta: The eta value to evaluate the patch at\n",
    "    :param BasisFunctionsList: The list (list of lists in 2D) of basis functions\n",
    "    :param ControlPoints_and_Weights: The list (list of lists in 2D) of Points. \n",
    "        The i,j index of the Point structure points to a list of the form [x,y,weight], \n",
    "        which correspond to the physical location and weight of a given control point\n",
    "    :param grad_index: An index value of 0 or 1 if the basis functions list provided \n",
    "        contains a matrix of lists holding the gradients of the basis functions\n",
    "\n",
    "    :return: Value of the patch on the physical domain at the given xi,eta point on the \n",
    "        parametric domain. Using this function in a lambda expression will \n",
    "        ease the plotting process. The return list has two dimensions [x, y]. If the \n",
    "        gradients are provided, then the return list is [del_x, del_y], where del is the partial\n",
    "        with respect to whichever parameter (xi or eta) is specified by grad_index\n",
    "    \"\"\"\n",
    "\n",
    "    physical_val = [0,0]\n",
    "\n",
    "    numI = len(BasisFunctionsList)\n",
    "    numJ = len(BasisFunctionsList[0])\n",
    "\n",
    "    for i in range(numI):\n",
    "        for j in range(numJ):\n",
    "            for k in range(2):\n",
    "\n",
    "                if grad_index is not None:\n",
    "                    physical_val[k] = physical_val[k] + BasisFunctionsList[i][j][grad_index](xi,eta) * ControlPoints_and_Weights[i][j][k]\n",
    "\n",
    "                else:\n",
    "                    physical_val[k] = physical_val[k] + BasisFunctionsList[i][j](xi,eta) * ControlPoints_and_Weights[i][j][k]\n",
    "\n",
    "    return physical_val\n"
   ]
  },
  {
   "cell_type": "markdown",
   "metadata": {},
   "source": [
    "# Patch Generation"
   ]
  },
  {
   "cell_type": "code",
   "execution_count": 21,
   "metadata": {},
   "outputs": [],
   "source": [
    "\n",
    "patch_parameters = get_channel_patch_parameters(CONST_P, CONST_NUM_CONTROL_PTS_XI, CONST_Q, CONST_NUM_CONTROL_PTS_ETA,\n",
    "                                               CONST_DELTA_Y, num_pts_mid=2)\n"
   ]
  },
  {
   "cell_type": "code",
   "execution_count": 22,
   "metadata": {
    "scrolled": false
   },
   "outputs": [
    {
     "name": "stdout",
     "output_type": "stream",
     "text": [
      "- xiVector : [-1.0, -1.0, -1.0, -1.0, -1.0, -1.0, -1.0, -0.6, -0.19999999999999996, 0.20000000000000018, 0.6000000000000001, 1.0, 1.0, 1.0, 1.0, 1.0, 1.0, 1.0] \n",
      "\n",
      "- etaVector : [-1.0, -1.0, 1.0, 1.0] \n",
      "\n",
      "- ControlPoints_and_Weights : [[[0.0, 0.0, 1.0], [0.0, 2.0, 1.0]], [[0.5, 0.0, 1.0], [0.5, 2.0, 1.0]], [[1.0, 0.0, 1.0], [1.0, 2.0, 1.0]], [[1.5, 0.0, 1.0], [1.5, 2.0, 1.0]], [[2.0, 0.75, 0.7071067811865475], [2.0, 1.25, 0.7071067811865475]], [[2.5, 0.75, 0.7071067811865475], [2.5, 1.25, 0.7071067811865475]], [[3.0, 0.75, 0.7071067811865475], [3.0, 1.25, 0.7071067811865475]], [[3.5, 0.0, 1.0], [3.5, 2.0, 1.0]], [[4.0, 0.0, 1.0], [4.0, 2.0, 1.0]], [[4.5, 0.0, 1.0], [4.5, 2.0, 1.0]], [[5.0, 0.0, 1.0], [5.0, 2.0, 1.0]]] \n",
      "\n",
      "- P : 6 \n",
      "\n",
      "- Q : 1 \n",
      "\n",
      "- Optimization_ControlPoints_and_Weights : [([0.5, 0.0, 1.0], 0, 1), ([1.0, 0.0, 1.0], 0, 1), ([1.5, 0.0, 1.0], 0, 1), ([2.0, 0.75, 0.7071067811865475], 0, 1), ([2.5, 0.75, 0.7071067811865475], 0, 1), ([3.0, 0.75, 0.7071067811865475], 0, 1), ([3.5, 0.0, 1.0], 0, 1), ([4.0, 0.0, 1.0], 0, 1), ([4.5, 0.0, 1.0], 0, 1)] \n",
      "\n",
      "- Optimization_ControlPoints_Limits : [([0.5, 0.0, 1.0], 0.0, 2.0), ([1.0, 0.0, 1.0], 0.0, 2.0), ([1.5, 0.0, 1.0], 0.0, 2.0), ([2.0, 0.75, 0.7071067811865475], 0.0, 2.0), ([2.5, 0.75, 0.7071067811865475], 0.0, 2.0), ([3.0, 0.75, 0.7071067811865475], 0.0, 2.0), ([3.5, 0.0, 1.0], 0.0, 2.0), ([4.0, 0.0, 1.0], 0.0, 2.0), ([4.5, 0.0, 1.0], 0.0, 2.0)] \n",
      "\n"
     ]
    }
   ],
   "source": [
    "\n",
    "# Output the patch parameters to stdout\n",
    "\n",
    "for k in patch_parameters.keys():\n",
    "    print(\"- %s : %s \\n\" % (k, patch_parameters[k]))\n"
   ]
  },
  {
   "cell_type": "markdown",
   "metadata": {},
   "source": [
    "## Visualize Patch\n",
    "Plot the patch (along with the control points) to see what it looks like"
   ]
  },
  {
   "cell_type": "code",
   "execution_count": 23,
   "metadata": {},
   "outputs": [],
   "source": [
    "def plot_patch(patch_parameters):\n",
    "\n",
    "    \"\"\"\n",
    "    Plot the given patch using matplotlib. Display the control points as well\n",
    "    as the constant knot lines. For the xi and eta\n",
    "    values on the edge (boundary), subtract or add a small epsilon value to ensure\n",
    "    they are in the patch domain.\n",
    "\n",
    "    :param patch_parameters: The dictionary with the patch_parameters\n",
    "    \"\"\"\n",
    "\n",
    "    xiVector = patch_parameters[\"xiVector\"]\n",
    "    etaVector = patch_parameters[\"etaVector\"]\n",
    "    ControlPoints_and_Weights = patch_parameters[\"ControlPoints_and_Weights\"]\n",
    "    P = patch_parameters[\"P\"]\n",
    "    Q = patch_parameters[\"Q\"]\n",
    "\n",
    "    # Get the NURBS basis functions associated with each control point\n",
    "    NURBS_basis_functions = Basis.get_NURBS_basis_functions(ControlPoints_and_Weights, P, Q, xiVector, etaVector)\n",
    "\n",
    "    # Get the patch parametric function\n",
    "    NURBS_patch_function = lambda xi,eta,BasisFunctionsList=NURBS_basis_functions, \\\n",
    "            ControlPoints_and_Weights=ControlPoints_and_Weights: \\\n",
    "            NURBS_patch(xi,eta, BasisFunctionsList, ControlPoints_and_Weights)\n",
    "\n",
    "    # The distinct knot values along both parametric coordinates (xi and eta)\n",
    "    xi_distinct_values = []\n",
    "    eta_distinct_values = []\n",
    "\n",
    "    xi_distinct_values.append(xiVector[0])\n",
    "    xi_distinct_values.append(xiVector[-1])\n",
    "    \n",
    "    eta_distinct_values.append(etaVector[0])\n",
    "    eta_distinct_values.append(etaVector[-1])\n",
    "    \n",
    "    \n",
    "#     for xi_val in xiVector:\n",
    "        \n",
    "#         if xi_val not in xi_distinct_values:\n",
    "#             xi_distinct_values.append(xi_val)\n",
    "\n",
    "#     for eta_val in etaVector:\n",
    "        \n",
    "#         if eta_val not in eta_distinct_values:\n",
    "#             eta_distinct_values.append(eta_val)\n",
    "\n",
    "\n",
    "    # Discretize the xi and eta domains so we can plot the lines\n",
    "    num_linspace_pts = 40\n",
    "    eta_linspace = np.linspace(etaVector[0]+CONST_EPS, etaVector[-1]-CONST_EPS, num_linspace_pts)\n",
    "    xi_linspace = np.linspace(xiVector[0]+CONST_EPS, xiVector[-1]-CONST_EPS, num_linspace_pts)\n",
    "\n",
    "    # Plot the constant xi values:\n",
    "    for xi_val_i in tnrange(len(xi_distinct_values)):\n",
    "        xi_val = xi_distinct_values[xi_val_i]\n",
    "        if xi_distinct_values.index(xi_val) == 0:\n",
    "            xi_val += CONST_EPS\n",
    "        elif xi_distinct_values.index(xi_val) == (len(xi_distinct_values)-1):\n",
    "            xi_val -= CONST_EPS\n",
    "\n",
    "        xPlotPts = []\n",
    "        yPlotPts = []\n",
    "\n",
    "        for eta_val in eta_linspace:\n",
    "            xy_pt = NURBS_patch_function(xi_val, eta_val)\n",
    "            xPlotPts.append(xy_pt[0])\n",
    "            yPlotPts.append(xy_pt[1])\n",
    "\n",
    "        plt.plot(xPlotPts, yPlotPts, c='b')\n",
    "\n",
    "    # Plot the constant eta values\n",
    "    for eta_val_i in tnrange(len(eta_distinct_values)):\n",
    "        eta_val = eta_distinct_values[eta_val_i]\n",
    "        \n",
    "        if eta_distinct_values.index(eta_val) == 0:\n",
    "            eta_val += CONST_EPS\n",
    "        elif eta_distinct_values.index(eta_val) == (len(eta_distinct_values)-1):\n",
    "            eta_val -= CONST_EPS\n",
    "\n",
    "        xPlotPts = []\n",
    "        yPlotPts = []\n",
    "\n",
    "        for xi_val in xi_linspace:\n",
    "            xy_pt = NURBS_patch_function(xi_val, eta_val)\n",
    "            xPlotPts.append(xy_pt[0])\n",
    "            yPlotPts.append(xy_pt[1])\n",
    "\n",
    "        plt.plot(xPlotPts, yPlotPts, c='b')\n",
    "\n",
    "    # Scatter the control points\n",
    "    xPlotPts = []\n",
    "    yPlotPts = []\n",
    "    for i in range(len(ControlPoints_and_Weights)):\n",
    "        for j in range(len(ControlPoints_and_Weights[0])):\n",
    "            xPlotPts.append(ControlPoints_and_Weights[i][j][0])\n",
    "            yPlotPts.append(ControlPoints_and_Weights[i][j][1])\n",
    "\n",
    "    plt.scatter(xPlotPts, yPlotPts, c='r')\n",
    "\n",
    "    plt.grid()\n",
    "    "
   ]
  },
  {
   "cell_type": "code",
   "execution_count": 24,
   "metadata": {
    "scrolled": false
   },
   "outputs": [
    {
     "data": {
      "application/vnd.jupyter.widget-view+json": {
       "model_id": "ab5aa2c1247e4605aecd15cde072b1ea",
       "version_major": 2,
       "version_minor": 0
      },
      "text/plain": [
       "HBox(children=(IntProgress(value=0, max=2), HTML(value='')))"
      ]
     },
     "metadata": {},
     "output_type": "display_data"
    },
    {
     "name": "stdout",
     "output_type": "stream",
     "text": [
      "\n"
     ]
    },
    {
     "data": {
      "application/vnd.jupyter.widget-view+json": {
       "model_id": "43e525302bf14366a91d23a8855e674e",
       "version_major": 2,
       "version_minor": 0
      },
      "text/plain": [
       "HBox(children=(IntProgress(value=0, max=2), HTML(value='')))"
      ]
     },
     "metadata": {},
     "output_type": "display_data"
    },
    {
     "name": "stdout",
     "output_type": "stream",
     "text": [
      "\n"
     ]
    },
    {
     "data": {
      "text/plain": [
       "Text(0, 0.5, 'y')"
      ]
     },
     "execution_count": 24,
     "metadata": {},
     "output_type": "execute_result"
    },
    {
     "data": {
      "image/png": "[encoded data removed]",
      "text/plain": [
       "<Figure size 432x288 with 1 Axes>"
      ]
     },
     "metadata": {
      "needs_background": "light"
     },
     "output_type": "display_data"
    }
   ],
   "source": [
    "plot_patch(patch_parameters)\n",
    "\n",
    "plt.xlabel(\"x\", fontsize=12)\n",
    "plt.ylabel(\"y\", fontsize=12)\n",
    "\n",
    "plt.savefig(\"internal_channel_patch_topbottombump.pdf\")\n"
   ]
  },
  {
   "cell_type": "markdown",
   "metadata": {},
   "source": [
    "# Output File\n",
    "Output the patch file so it can be input into the DPG Code"
   ]
  },
  {
   "cell_type": "code",
   "execution_count": 15,
   "metadata": {},
   "outputs": [],
   "source": [
    "def output_file(patch_parameters):\n",
    "\n",
    "    \"\"\"\n",
    "    Output the file with the patch parameters. The DPG code will\n",
    "    read this file and use the values to perform the parametric\n",
    "    mapping\n",
    "\n",
    "    NOTE: Optimization_ControlPoints_and_Weights is a key that, when present, \n",
    "        corresponds to the control points used for the optimization. If this \n",
    "        data is present, then print it as well in the .geo file\n",
    "\n",
    "    :param patch_parameters: The parameters used to define the patch\n",
    "    \"\"\"\n",
    "\n",
    "    xiVector = patch_parameters[\"xiVector\"]\n",
    "    etaVector = patch_parameters[\"etaVector\"]\n",
    "    ControlPoints_and_Weights = patch_parameters[\"ControlPoints_and_Weights\"]\n",
    "    P = patch_parameters[\"P\"]\n",
    "    Q = patch_parameters[\"Q\"]\n",
    "\n",
    "    num_xi_pts = len(ControlPoints_and_Weights)\n",
    "    num_eta_pts = len(ControlPoints_and_Weights[0])\n",
    "\n",
    "    # Load all the control points into a list (a connecitivity format will\n",
    "    # be used to load the points)\n",
    "    ControlPoints_and_Weights_list = []\n",
    "    for i in range(num_xi_pts):\n",
    "        for j in range(num_eta_pts):\n",
    "            if ControlPoints_and_Weights[i][j] not in ControlPoints_and_Weights_list:\n",
    "                ControlPoints_and_Weights_list.append(ControlPoints_and_Weights[i][j])\n",
    "\n",
    "    with open(CONST_Output_file_name, \"w\") as fp:\n",
    "\n",
    "        fp.write(\"/** Geometry parameters for test case: euler/steady/NURBS\\n\")\n",
    "        fp.write(\"*/\\n\\n\")\n",
    "\n",
    "        # The order of the patch in each parameter direction\n",
    "        fp.write(\"P(xi_order) %d \\n\" % P)\n",
    "        fp.write(\"Q(eta_order) %d \\n\" % Q)\n",
    "        fp.write(\"\\n\")\n",
    "\n",
    "        # The knot vectors\n",
    "        fp.write(\"knots_xi %d \\n\" % len(xiVector))\n",
    "        for val in xiVector:\n",
    "            fp.write(\"%.14e \\n\" % val)\n",
    "        fp.write(\"\\n\")\n",
    "        fp.write(\"knots_eta %d \\n\" % len(etaVector))\n",
    "        for val in etaVector:\n",
    "            fp.write(\"%.14e \\n\" % val)\n",
    "        fp.write(\"\\n\")\n",
    "        fp.write(\"\\n\")\n",
    "\n",
    "        # Control Point Data information\n",
    "        fp.write(\"Control_Point_Data %d \\n\" % len(ControlPoints_and_Weights_list))\n",
    "        for pt in ControlPoints_and_Weights_list:\n",
    "            fp.write(\"%.14e %.14e %.14e \\n\" % (pt[0], pt[1], pt[2]))\n",
    "        fp.write(\"\\n\")\n",
    "\n",
    "        # Connectivity Information\t\n",
    "        fp.write(\"Control_Point_Connectivity %d %d\\n\" % (num_xi_pts, num_eta_pts))\n",
    "        for i in range(num_xi_pts):\n",
    "            for j in range(num_eta_pts):\n",
    "                fp.write(\"%d \" % ControlPoints_and_Weights_list.index(ControlPoints_and_Weights[i][j]))\n",
    "            fp.write(\"\\n\")\n",
    "        fp.write(\"\\n\")\n",
    "\n",
    "        if \"Optimization_ControlPoints_and_Weights\" in patch_parameters:\n",
    "\n",
    "            #Optimization Information\n",
    "            optimization_data_tuples = patch_parameters['Optimization_ControlPoints_and_Weights']\n",
    "\n",
    "            fp.write(\"Optimization_Point_Connectivity %d\\n\" % (len(optimization_data_tuples)))\n",
    "            for data_tuple in optimization_data_tuples:\n",
    "                fp.write(\"%d %d %d \\n\" % (ControlPoints_and_Weights_list.index(data_tuple[0]), data_tuple[1], data_tuple[2]))\n",
    "            fp.write(\"\\n\")\n",
    "\n",
    "            optimization_control_pt_limit_tuples = patch_parameters['Optimization_ControlPoints_Limits']\n",
    "            fp.write(\"Optimization_Point_Limit %d\\n\" % (len(optimization_control_pt_limit_tuples)))\n",
    "            for data_tuple in optimization_control_pt_limit_tuples:\n",
    "                fp.write(\"%d %e %e \\n\" % (ControlPoints_and_Weights_list.index(data_tuple[0]), data_tuple[1], data_tuple[2]))\n",
    "            fp.write(\"\\n\")\n",
    "            "
   ]
  },
  {
   "cell_type": "code",
   "execution_count": 16,
   "metadata": {},
   "outputs": [],
   "source": [
    "output_file(patch_parameters)"
   ]
  },
  {
   "cell_type": "code",
   "execution_count": null,
   "metadata": {},
   "outputs": [],
   "source": []
  }
 ],
 "metadata": {
  "kernelspec": {
   "display_name": "python3",
   "language": "python",
   "name": "python3"
  },
  "language_info": {
   "codemirror_mode": {
    "name": "ipython",
    "version": 3
   },
   "file_extension": ".py",
   "mimetype": "text/x-python",
   "name": "python",
   "nbconvert_exporter": "python",
   "pygments_lexer": "ipython3",
   "version": "3.6.7"
  },
  "toc": {
   "base_numbering": 1,
   "nav_menu": {},
   "number_sections": true,
   "sideBar": true,
   "skip_h1_title": false,
   "title_cell": "Table of Contents",
   "title_sidebar": "Contents",
   "toc_cell": false,
   "toc_position": {},
   "toc_section_display": true,
   "toc_window_display": false
  }
 },
 "nbformat": 4,
 "nbformat_minor": 2
}
